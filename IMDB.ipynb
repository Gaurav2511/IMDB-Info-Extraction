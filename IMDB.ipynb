{
 "cells": [
  {
   "cell_type": "code",
   "execution_count": 1,
   "metadata": {},
   "outputs": [],
   "source": [
    "import webbrowser as wb"
   ]
  },
  {
   "cell_type": "code",
   "execution_count": 2,
   "metadata": {},
   "outputs": [
    {
     "name": "stdout",
     "output_type": "stream",
     "text": [
      "Enter keyword: friends\n"
     ]
    },
    {
     "data": {
      "text/plain": [
       "True"
      ]
     },
     "execution_count": 2,
     "metadata": {},
     "output_type": "execute_result"
    }
   ],
   "source": [
    "key=input(\"Enter keyword: \")\n",
    "key=key.replace(' ','+')\n",
    "link='https://www.imdb.com/find?ref_=nv_sr_fn&q='+key\n",
    "wb.open(link)"
   ]
  },
  {
   "cell_type": "code",
   "execution_count": 3,
   "metadata": {},
   "outputs": [],
   "source": [
    "import bs4\n",
    "import urllib.request as req"
   ]
  },
  {
   "cell_type": "code",
   "execution_count": 4,
   "metadata": {},
   "outputs": [],
   "source": [
    "res=req.urlopen(link)\n",
    "page=bs4.BeautifulSoup(res)"
   ]
  },
  {
   "cell_type": "code",
   "execution_count": 5,
   "metadata": {},
   "outputs": [],
   "source": [
    "li=page.find('table',class_='findList')\n",
    "li1=li.find_all('tr',class_='findResult odd')\n",
    "li2=li.find_all('tr',class_='findResult even')"
   ]
  },
  {
   "cell_type": "code",
   "execution_count": 6,
   "metadata": {},
   "outputs": [
    {
     "name": "stdout",
     "output_type": "stream",
     "text": [
      "[<tr class=\"findResult odd\"> <td class=\"primary_photo\"> <a href=\"/title/tt0108778/\"><img src=\"https://m.media-amazon.com/images/M/MV5BNDVkYjU0MzctMWRmZi00NTkxLTgwZWEtOWVhYjZlYjllYmU4XkEyXkFqcGdeQXVyNTA4NzY1MzY@._V1_UX32_CR0,0,32,44_AL_.jpg\"/></a> </td> <td class=\"result_text\"> <a href=\"/title/tt0108778/\">Friends</a> (1994) (TV Series) </td> </tr>, <tr class=\"findResult even\"> <td class=\"primary_photo\"> <a href=\"/title/tt0094715/\"><img src=\"https://m.media-amazon.com/images/M/MV5BMjJjODRiNDMtNzRlZi00M2E3LWIzZDItYmU1NGQyMDFmYTc2XkEyXkFqcGdeQXVyMTA0MjU0Ng@@._V1_UX32_CR0,0,32,44_AL_.jpg\"/></a> </td> <td class=\"result_text\"> <a href=\"/title/tt0094715/\">Beaches</a> (1988) <br/>aka <i>\"Friends\"</i> </td> </tr>]\n",
      "List of movies: \n",
      "     Friends (1994) (TV Series)  \n",
      "     Beaches (1988) aka \"Friends\"  \n",
      "['     Friends (1994) (TV Series)  ', '     Beaches (1988) aka \"Friends\"  ']\n",
      "Enter series you wanna select:      Friends (1994) (TV Series)  \n",
      "0\n",
      "https://www.imdb.com//title/tt0108778/\n"
     ]
    }
   ],
   "source": [
    "li3=[]\n",
    "li3=li1+li2\n",
    "li4=[]\n",
    "q=[]\n",
    "print(li3)\n",
    "print(\"List of movies: \")\n",
    "for i in li3:\n",
    "    print(i.text)\n",
    "    li4.append(i.text)\n",
    "#li4 = [x.strip(' ') for x in li4]\n",
    "print(li4)\n",
    "ui=input('Enter series you wanna select: ')\n",
    "if ui in li4:\n",
    "    ff=li4.index(ui)\n",
    "print(ff)\n",
    "link1='https://www.imdb.com/'+li3[ff].find('a')['href']\n",
    "print(link1)"
   ]
  },
  {
   "cell_type": "code",
   "execution_count": 8,
   "metadata": {},
   "outputs": [],
   "source": [
    "resp=req.urlopen(link1)\n",
    "page1=bs4.BeautifulSoup(resp)"
   ]
  },
  {
   "cell_type": "code",
   "execution_count": 9,
   "metadata": {},
   "outputs": [
    {
     "name": "stdout",
     "output_type": "stream",
     "text": [
      "Title: Friends             \n",
      " Rating: 8.9\n",
      " Summary: \n",
      "                    Follows the personal and professional lives of six twenty to thirty-something-year-old friends living in Manhattan.\n",
      "            \n",
      "Reviews:\n",
      " A True Masterpiece.\n",
      "\n",
      " Best show\n",
      "\n",
      " My Friends on T.V.\n",
      "\n",
      " The best American TV has to offer\n",
      "\n",
      " Where are YOUR Friends?\n",
      "\n",
      " The Best Show Ever\n",
      "\n",
      " Still as funny as it was when it started back in '94\n",
      "\n",
      " One of the best sitcoms ever\n",
      "\n",
      " fantastic\n",
      "\n",
      " The greatest show on television\n",
      "\n"
     ]
    }
   ],
   "source": [
    "title=page1.find('div',class_='title_wrapper')\n",
    "t=title.find('h1').text\n",
    "rating=page1.find('span',itemprop='ratingValue')\n",
    "r=rating.text\n",
    "summ=page1.find('div',class_='summary_text')\n",
    "s=summ.text\n",
    "print(f\"Title: {t}\\n Rating: {r}\\n Summary: {s}\")\n",
    "print(\"Reviews:\")\n",
    "rev=page1.find('div',id='quicklinksMainSection')\n",
    "rev1=rev.find_all('a')\n",
    "link3='https://www.imdb.com'+rev1[2]['href']\n",
    "resp1=req.urlopen(link3)\n",
    "page2=bs4.BeautifulSoup(resp1)\n",
    "reviews=page2.find_all('a',class_='title',limit=10)\n",
    "for i in reviews:\n",
    "    print(i.text)"
   ]
  }
 ],
 "metadata": {
  "kernelspec": {
   "display_name": "Python 3",
   "language": "python",
   "name": "python3"
  },
  "language_info": {
   "codemirror_mode": {
    "name": "ipython",
    "version": 3
   },
   "file_extension": ".py",
   "mimetype": "text/x-python",
   "name": "python",
   "nbconvert_exporter": "python",
   "pygments_lexer": "ipython3",
   "version": "3.7.3"
  }
 },
 "nbformat": 4,
 "nbformat_minor": 2
}
